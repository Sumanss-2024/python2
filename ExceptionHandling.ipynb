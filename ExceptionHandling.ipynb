{
 "cells": [
  {
   "cell_type": "code",
   "execution_count": 3,
   "metadata": {},
   "outputs": [
    {
     "name": "stdout",
     "output_type": "stream",
     "text": [
      "Negative numbers are not allowed!\n"
     ]
    }
   ],
   "source": [
    "def CheckPositive(number):\n",
    "    if number < 0:\n",
    "        raise ValueError(\"Negative numbers are not allowed!\")\n",
    "    else :\n",
    "        print(\"It is a positive number\")\n",
    "\n",
    "try :\n",
    "    print(CheckPositive(-9))\n",
    "except ValueError as e:\n",
    "    print(e)\n"
   ]
  },
  {
   "cell_type": "code",
   "execution_count": 11,
   "metadata": {},
   "outputs": [
    {
     "name": "stdout",
     "output_type": "stream",
     "text": [
      "file not found\n",
      "file closed\n"
     ]
    }
   ],
   "source": [
    "try:\n",
    "    file = open(\"exam.txt\", \"r\")\n",
    "    content = file.read()\n",
    "    print(content)\n",
    "\n",
    "except FileNotFoundError:\n",
    "    print(\"file not found\")\n",
    "\n",
    "finally:\n",
    "    file.close()\n",
    "    print(\"file closed\")"
   ]
  },
  {
   "cell_type": "code",
   "execution_count": 13,
   "metadata": {},
   "outputs": [
    {
     "name": "stdout",
     "output_type": "stream",
     "text": [
      "The result is : 6.0\n",
      "Program is executed successfully.\n"
     ]
    }
   ],
   "source": [
    "try:\n",
    "    num1 = float(input(\"enter the 1st number:\"))\n",
    "    num2 = float(input(\"enter the 2nd number:\"))\n",
    "    result = num1 / num2\n",
    "    print(f\"The result is : {result}\")\n",
    "\n",
    "except ZeroDivisionError:\n",
    "    print(\"Error, you cannot divide by zero\")\n",
    "\n",
    "except ValueError:\n",
    "    print(\"Please enter a valid number \")\n",
    "finally:\n",
    "    print(\"Program is executed successfully.\")"
   ]
  }
 ],
 "metadata": {
  "kernelspec": {
   "display_name": "Python 3",
   "language": "python",
   "name": "python3"
  },
  "language_info": {
   "codemirror_mode": {
    "name": "ipython",
    "version": 3
   },
   "file_extension": ".py",
   "mimetype": "text/x-python",
   "name": "python",
   "nbconvert_exporter": "python",
   "pygments_lexer": "ipython3",
   "version": "3.12.1"
  }
 },
 "nbformat": 4,
 "nbformat_minor": 2
}
