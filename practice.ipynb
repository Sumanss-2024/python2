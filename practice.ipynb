{
 "cells": [
  {
   "cell_type": "code",
   "execution_count": null,
   "metadata": {},
   "outputs": [],
   "source": [
    "print(5+8)\n",
    "print(6+5)\n"
   ]
  },
  {
   "cell_type": "code",
   "execution_count": null,
   "metadata": {},
   "outputs": [],
   "source": [
    "for i in range(3):\n",
    "    print(\"kasturi patil\");"
   ]
  },
  {
   "cell_type": "code",
   "execution_count": null,
   "metadata": {},
   "outputs": [],
   "source": [
    "def function_name():\n",
    "    #code block that performs a task\n",
    "    print(\"Hello this is a function\")\n",
    "\n",
    "\n",
    "for i in range(3):\n",
    "    function_name()"
   ]
  },
  {
   "cell_type": "code",
   "execution_count": null,
   "metadata": {},
   "outputs": [],
   "source": [
    "def greet(name):\n",
    "    print(f\"Namaste, {name}! Welcome to my session.\")\n",
    "greet(\"Suman\")"
   ]
  },
  {
   "cell_type": "code",
   "execution_count": null,
   "metadata": {},
   "outputs": [],
   "source": [
    "def add_numbers(a, b):\n",
    "    return a+b\n",
    "result = add_numbers(10,20)\n",
    "print(result)"
   ]
  },
  {
   "cell_type": "code",
   "execution_count": null,
   "metadata": {},
   "outputs": [],
   "source": [
    "#local variable\n",
    "def local_variable():\n",
    "    x=10\n",
    "    print(x)\n",
    "local_variable()\n",
    "\n",
    "#global variable\n",
    "x=20\n",
    "\n",
    "def global_variable():\n",
    "    print(x)\n",
    "global_variable()"
   ]
  },
  {
   "cell_type": "code",
   "execution_count": null,
   "metadata": {},
   "outputs": [],
   "source": [
    "def calculate_area(length, breadth):\n",
    "    return length * breadth\n",
    "\n",
    "area1 = calculate_area(4, 6)\n",
    "print(area1)"
   ]
  },
  {
   "cell_type": "code",
   "execution_count": null,
   "metadata": {},
   "outputs": [],
   "source": [
    "x=20\n",
    "print(x)"
   ]
  },
  {
   "cell_type": "code",
   "execution_count": null,
   "metadata": {},
   "outputs": [],
   "source": [
    "my_list = [1, 2, 3, \"apple\", \"mango\"]\n",
    "\n",
    "print(my_list[0])\n",
    "\n",
    "\n",
    "my_list.remove(2)\n",
    "print(my_list)\n",
    "print(len(my_list))"
   ]
  },
  {
   "cell_type": "code",
   "execution_count": 17,
   "metadata": {},
   "outputs": [
    {
     "name": "stdout",
     "output_type": "stream",
     "text": [
      "Suman\n",
      "abc@gmail.com\n",
      "{'name': 'Suman', 'age': '22', 'city': 'Savanur'}\n"
     ]
    }
   ],
   "source": [
    "#dictionaries\n",
    "\n",
    "my_dict = {\"name\" : \"Suman\",\"age\":\"22\",\"city\":\"Savanur\"}\n",
    "print(my_dict[\"name\"])\n",
    "my_dict[\"email\"] = \"abc@gmail.com\"\n",
    "\n",
    "\n",
    "print(my_dict[\"email\"])\n",
    "my_dict.pop(\"email\")\n",
    "print(my_dict)"
   ]
  },
  {
   "cell_type": "code",
   "execution_count": 24,
   "metadata": {},
   "outputs": [
    {
     "name": "stdout",
     "output_type": "stream",
     "text": [
      "{'avacado', 2, 'apple'}\n"
     ]
    }
   ],
   "source": [
    "my_set = {1, 2,\"apple\"}\n",
    "my_set.add(\"avacado\")\n",
    "my_set.remove(1)\n",
    "print(my_set)\n",
    "\n"
   ]
  },
  {
   "cell_type": "code",
   "execution_count": 26,
   "metadata": {},
   "outputs": [
    {
     "name": "stdout",
     "output_type": "stream",
     "text": [
      "{'kasturi': '20', 'deepika': '30', 'megha': '25', 'chandana': '28'}\n"
     ]
    }
   ],
   "source": [
    "students = [\"kasturi\", \"deepika\",\"megha\"]\n",
    "\n",
    "score = {\n",
    "\n",
    "    students[0] : \"20\",students[1] : \"30\",students[2] : \"25\"\n",
    "}\n",
    "\n",
    "score[\"chandana\"] = \"28\"\n",
    "print(score)"
   ]
  }
 ],
 "metadata": {
  "kernelspec": {
   "display_name": "Python 3",
   "language": "python",
   "name": "python3"
  },
  "language_info": {
   "codemirror_mode": {
    "name": "ipython",
    "version": 3
   },
   "file_extension": ".py",
   "mimetype": "text/x-python",
   "name": "python",
   "nbconvert_exporter": "python",
   "pygments_lexer": "ipython3",
   "version": "3.12.1"
  }
 },
 "nbformat": 4,
 "nbformat_minor": 2
}
