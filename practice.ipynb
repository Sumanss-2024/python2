{
 "cells": [
  {
   "cell_type": "code",
   "execution_count": 5,
   "metadata": {},
   "outputs": [
    {
     "name": "stdout",
     "output_type": "stream",
     "text": [
      "13\n",
      "11\n"
     ]
    }
   ],
   "source": [
    "print(5+8)\n",
    "print(6+5)\n"
   ]
  },
  {
   "cell_type": "code",
   "execution_count": 9,
   "metadata": {},
   "outputs": [
    {
     "name": "stdout",
     "output_type": "stream",
     "text": [
      "kasturi patil\n",
      "kasturi patil\n",
      "kasturi patil\n"
     ]
    }
   ],
   "source": [
    "for i in range(3):\n",
    "    print(\"kasturi patil\");"
   ]
  },
  {
   "cell_type": "code",
   "execution_count": 4,
   "metadata": {},
   "outputs": [
    {
     "name": "stdout",
     "output_type": "stream",
     "text": [
      "Hello this is a function\n",
      "Hello this is a function\n",
      "Hello this is a function\n"
     ]
    }
   ],
   "source": [
    "def function_name():\n",
    "    #code block that performs a task\n",
    "    print(\"Hello this is a function\")\n",
    "\n",
    "\n",
    "for i in range(3):\n",
    "    function_name()"
   ]
  },
  {
   "cell_type": "code",
   "execution_count": 9,
   "metadata": {},
   "outputs": [
    {
     "name": "stdout",
     "output_type": "stream",
     "text": [
      "Namaste, Suman! Welcome to my session.\n"
     ]
    }
   ],
   "source": [
    "def greet(name):\n",
    "    print(f\"Namaste, {name}! Welcome to my session.\")\n",
    "greet(\"Suman\")"
   ]
  },
  {
   "cell_type": "code",
   "execution_count": 10,
   "metadata": {},
   "outputs": [
    {
     "name": "stdout",
     "output_type": "stream",
     "text": [
      "30\n"
     ]
    }
   ],
   "source": [
    "def add_numbers(a, b):\n",
    "    return a+b\n",
    "result = add_numbers(10,20)\n",
    "print(result)"
   ]
  },
  {
   "cell_type": "code",
   "execution_count": 15,
   "metadata": {},
   "outputs": [
    {
     "name": "stdout",
     "output_type": "stream",
     "text": [
      "10\n",
      "20\n"
     ]
    }
   ],
   "source": [
    "#local variable\n",
    "def local_variable():\n",
    "    x=10\n",
    "    print(x)\n",
    "local_variable()\n",
    "\n",
    "#global variable\n",
    "x=20\n",
    "\n",
    "def global_variable():\n",
    "    print(x)\n",
    "global_variable()"
   ]
  },
  {
   "cell_type": "code",
   "execution_count": 16,
   "metadata": {},
   "outputs": [
    {
     "name": "stdout",
     "output_type": "stream",
     "text": [
      "24\n"
     ]
    }
   ],
   "source": [
    "def calculate_area(length, breadth):\n",
    "    return length * breadth\n",
    "\n",
    "area1 = calculate_area(4, 6)\n",
    "print(area1)"
   ]
  },
  {
   "cell_type": "code",
   "execution_count": null,
   "metadata": {},
   "outputs": [],
   "source": [
    "x=20\n",
    "print(x)"
   ]
  }
 ],
 "metadata": {
  "kernelspec": {
   "display_name": "Python 3",
   "language": "python",
   "name": "python3"
  },
  "language_info": {
   "codemirror_mode": {
    "name": "ipython",
    "version": 3
   },
   "file_extension": ".py",
   "mimetype": "text/x-python",
   "name": "python",
   "nbconvert_exporter": "python",
   "pygments_lexer": "ipython3",
   "version": "3.11.8"
  }
 },
 "nbformat": 4,
 "nbformat_minor": 2
}
