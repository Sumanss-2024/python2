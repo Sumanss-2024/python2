{
 "cells": [
  {
   "cell_type": "code",
   "execution_count": 2,
   "metadata": {},
   "outputs": [
    {
     "name": "stdout",
     "output_type": "stream",
     "text": [
      "Hello!!, everyone this suman s suregaonkar.\n",
      "Welcome to the python session.\n",
      "\n",
      "Python is a widely used programming language that offers several unique features and advantages compared to \n",
      "languages like Java and C++. \n",
      "Our Python tutorial thoroughly explains Python basics and advanced concepts, starting with installation, \n",
      "conditional statements, loops, built-in data structures, Object-Oriented Programming, Generators, Exception Handling, \n",
      "Python RegEx, and many other concepts. This tutorial is designed for beginners and working professionals.\n",
      "\n",
      "In the late 1980s, Guido van Rossum dreamed of developing Python. The first version of Python 0.9.0 was released in 1991. \n",
      "Since its release, Python started gaining popularity. According to reports, \n",
      "Python is now the most popular programming language among developers because of its high demands in the tech realm.\n"
     ]
    }
   ],
   "source": [
    "file = open(\"example.txt\", \"r\")\n",
    "content = file.read()\n",
    "print(content)\n",
    "file.close()"
   ]
  },
  {
   "cell_type": "code",
   "execution_count": 1,
   "metadata": {},
   "outputs": [
    {
     "name": "stdout",
     "output_type": "stream",
     "text": [
      "Hello!!, everyone this suman s suregaonkar.\n",
      "\n",
      "Welcome to the python session.\n",
      "\n",
      "\n",
      "\n",
      "Python is a widely used programming language that offers several unique features and advantages compared to \n",
      "\n",
      "languages like Java and C++. \n",
      "\n",
      "Our Python tutorial thoroughly explains Python basics and advanced concepts, starting with installation, \n",
      "\n",
      "conditional statements, loops, built-in data structures, Object-Oriented Programming, Generators, Exception Handling, \n",
      "\n",
      "Python RegEx, and many other concepts. This tutorial is designed for beginners and working professionals.\n",
      "\n",
      "\n",
      "\n",
      "In the late 1980s, Guido van Rossum dreamed of developing Python. The first version of Python 0.9.0 was released in 1991. \n",
      "\n",
      "Since its release, Python started gaining popularity. According to reports, \n",
      "\n",
      "Python is now the most popular programming language among developers because of its high demands in the tech realm.\n"
     ]
    }
   ],
   "source": [
    "file = open(\"example.txt\", \"r\")\n",
    "for line in file:\n",
    "    print(line)\n",
    "file.close()"
   ]
  },
  {
   "cell_type": "code",
   "execution_count": 5,
   "metadata": {},
   "outputs": [],
   "source": [
    "file = open(\"write.txt\",\"w\")\n",
    "file.write(\"hello world!!\")\n",
    "file.close()\n",
    "\n",
    "\n",
    "#if the file already exists then the content in the file will be overwritten using write command."
   ]
  },
  {
   "cell_type": "code",
   "execution_count": 7,
   "metadata": {},
   "outputs": [],
   "source": [
    "#appending a new line into the existing file content.\n",
    "file = open(\"write.txt\",\"a\")\n",
    "file.write(\"\\n\\nWelcome to my biogragh.\")\n",
    "file.close()"
   ]
  },
  {
   "cell_type": "code",
   "execution_count": 8,
   "metadata": {},
   "outputs": [],
   "source": [
    "#write and append command will initiate the creation of a non existing file and write on it.\n",
    "file = open(\"file.txt\",\"w\")\n",
    "file.write(\"python language is named after a comedy group named as 'Monty python'.\")\n",
    "file.close()"
   ]
  },
  {
   "cell_type": "code",
   "execution_count": 10,
   "metadata": {},
   "outputs": [
    {
     "name": "stdout",
     "output_type": "stream",
     "text": [
      "the sum of the numbers is: 300\n"
     ]
    }
   ],
   "source": [
    "file = open(\"data.txt\", \"r\")\n",
    "total = 0\n",
    "\n",
    "for line in file:\n",
    "    total += int(line.strip())#coverts each line in the file to an integer and adds them line by line.\n",
    "\n",
    "file.close()\n",
    "print(\"the sum of the numbers is:\", total)"
   ]
  }
 ],
 "metadata": {
  "kernelspec": {
   "display_name": "Python 3",
   "language": "python",
   "name": "python3"
  },
  "language_info": {
   "codemirror_mode": {
    "name": "ipython",
    "version": 3
   },
   "file_extension": ".py",
   "mimetype": "text/x-python",
   "name": "python",
   "nbconvert_exporter": "python",
   "pygments_lexer": "ipython3",
   "version": "3.12.1"
  }
 },
 "nbformat": 4,
 "nbformat_minor": 2
}
